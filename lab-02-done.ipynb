{
 "cells": [
  {
   "cell_type": "code",
   "execution_count": 1,
   "metadata": {
    "collapsed": false
   },
   "outputs": [
    {
     "name": "stdout",
     "output_type": "stream",
     "text": [
      "Populating the interactive namespace from numpy and matplotlib\n"
     ]
    }
   ],
   "source": [
    "%pylab inline\n",
    "import skimage.io\n",
    "from scipy.ndimage.morphology import binary_erosion, binary_dilation"
   ]
  },
  {
   "cell_type": "markdown",
   "metadata": {},
   "source": [
    "# Лаб №2\n",
    "\n",
    "Дата сдачи: 17-10-2016 00:00 MSK UTC+3\n",
    "\n",
    "### 2. Построение скелета бинарного изображения\n",
    "\n",
    "Разработать программу построения скелета бинарного изображения на основе преобразований утоньшения.\n",
    "\n",
    "Содержание отчета:\n",
    "\n",
    "- Исходные изображения\n",
    "- Код программы\n",
    "- Результат работы программы"
   ]
  },
  {
   "cell_type": "code",
   "execution_count": 2,
   "metadata": {
    "collapsed": false
   },
   "outputs": [],
   "source": [
    "def fancy_show(imgs, *, n_cols=None, fig_dim=None):\n",
    "    if type(imgs) == numpy.ndarray:\n",
    "        imgs = [imgs]\n",
    "    if len(imgs) == 1:\n",
    "        n_rows = 1\n",
    "        n_cols = 1\n",
    "        if fig_dim == None:\n",
    "            fig_dim = 5\n",
    "        figsize = (fig_dim, fig_dim)\n",
    "    else:\n",
    "        if n_cols == None:\n",
    "            n_cols = min(len(imgs), 3)\n",
    "        n_rows = int(ceil(len(imgs) / n_cols))\n",
    "        if fig_dim == None:\n",
    "            fig_dim = 15\n",
    "    figsize = (fig_dim, fig_dim / n_cols * n_rows)\n",
    "    fig = plt.figure(figsize=figsize)\n",
    "    for i, img in enumerate(imgs):\n",
    "        ax = fig.add_subplot(n_rows, n_cols, i + 1)\n",
    "        ax.imshow(img, cmap='gray', interpolation='none')"
   ]
  },
  {
   "cell_type": "code",
   "execution_count": 3,
   "metadata": {
    "collapsed": false
   },
   "outputs": [
    {
     "data": {
      "image/png": "[encoded data removed]",
      "text/plain": [
       "<matplotlib.figure.Figure at 0x7f26c3087b38>"
      ]
     },
     "metadata": {},
     "output_type": "display_data"
    }
   ],
   "source": [
    "img = (imread('img.png') > 0.5)\n",
    "fancy_show(img)"
   ]
  },
  {
   "cell_type": "markdown",
   "metadata": {},
   "source": [
    "Structure element mini-golf"
   ]
  },
  {
   "cell_type": "code",
   "execution_count": 4,
   "metadata": {
    "collapsed": false
   },
   "outputs": [],
   "source": [
    "c = array([1] * 3 + [0] * 5, dtype=bool)\n",
    "perm = [0, 1, 2, 7, 8, 3, 6, 5, 4]\n",
    "struct_miss = array([concatenate((roll(c, i), [False]))[perm].reshape((3, 3)) for i in range(8)])\n",
    "struct_hit = roll(struct_miss, 4, axis=0)\n",
    "struct_hit[:, 1, 1] = 1\n",
    "struct_hit[1::2, ::2, ::2] = 0"
   ]
  },
  {
   "cell_type": "code",
   "execution_count": 5,
   "metadata": {
    "collapsed": false
   },
   "outputs": [],
   "source": [
    "def hit_and_miss(img, hit, miss):\n",
    "    img_hit = binary_erosion(img, hit)\n",
    "    img_miss = binary_erosion(invert(img), miss)\n",
    "    return img * invert(img_hit * img_miss)\n",
    "\n",
    "def thin_step(img):\n",
    "    for hit, miss in zip(struct_hit, struct_miss):\n",
    "        img = hit_and_miss(img, hit, miss)\n",
    "    return img\n",
    "\n",
    "def skeletonize(img):\n",
    "    while True:\n",
    "        img_new = thin_step(img)\n",
    "        if all(img_new == img):\n",
    "            break\n",
    "        img = img_new\n",
    "    return img"
   ]
  },
  {
   "cell_type": "code",
   "execution_count": 6,
   "metadata": {
    "collapsed": false
   },
   "outputs": [
    {
     "data": {
      "image/png": "[encoded data removed]",
      "text/plain": [
       "<matplotlib.figure.Figure at 0x7f26c2fd11d0>"
      ]
     },
     "metadata": {},
     "output_type": "display_data"
    }
   ],
   "source": [
    "skeleton = skeletonize(img)\n",
    "fancy_show(skeleton)\n",
    "imsave('skeleton-thin.png', skeleton)"
   ]
  }
 ],
 "metadata": {
  "kernelspec": {
   "display_name": "Python 3",
   "language": "python",
   "name": "python3"
  },
  "language_info": {
   "codemirror_mode": {
    "name": "ipython",
    "version": 3
   },
   "file_extension": ".py",
   "mimetype": "text/x-python",
   "name": "python",
   "nbconvert_exporter": "python",
   "pygments_lexer": "ipython3",
   "version": "3.5.2"
  }
 },
 "nbformat": 4,
 "nbformat_minor": 1
}

{
 "cells": [
  {
   "cell_type": "code",
   "execution_count": 1,
   "metadata": {
    "collapsed": false
   },
   "outputs": [
    {
     "name": "stdout",
     "output_type": "stream",
     "text": [
      "Populating the interactive namespace from numpy and matplotlib\n"
     ]
    }
   ],
   "source": [
    "%pylab inline\n",
    "import skimage.io\n",
    "from scipy.ndimage.morphology import binary_erosion, binary_dilation"
   ]
  },
  {
   "cell_type": "markdown",
   "metadata": {},
   "source": [
    "# Лаб №1\n",
    "\n",
    "Дата сдачи: 17-10-2016 00:00 MSK UTC+3\n",
    "\n",
    "### 1. Построение морфологического скелета\n",
    "\n",
    "Разработать программу построения морфологического скелета изображения и восстановления изображения по морфологическому скелету для бинарных изображений и различных структурирующих элементов.\n",
    "\n",
    "Содержание отчета:\n",
    "\n",
    "- Исходные изображения\n",
    "- Код программы\n",
    "- Результат работы программы"
   ]
  },
  {
   "cell_type": "code",
   "execution_count": 2,
   "metadata": {
    "collapsed": false
   },
   "outputs": [],
   "source": [
    "def fancy_show(imgs, *, n_cols=None, fig_dim=None):\n",
    "    if type(imgs) == numpy.ndarray:\n",
    "        imgs = [imgs]\n",
    "    if len(imgs) == 1:\n",
    "        n_rows = 1\n",
    "        n_cols = 1\n",
    "        if fig_dim == None:\n",
    "            fig_dim = 5\n",
    "        figsize = (fig_dim, fig_dim)\n",
    "    else:\n",
    "        if n_cols == None:\n",
    "            n_cols = min(len(imgs), 3)\n",
    "        n_rows = int(ceil(len(imgs) / n_cols))\n",
    "        if fig_dim == None:\n",
    "            fig_dim = 15\n",
    "    figsize = (fig_dim, fig_dim / n_cols * n_rows)\n",
    "    fig = plt.figure(figsize=figsize)\n",
    "    for i, img in enumerate(imgs):\n",
    "        ax = fig.add_subplot(n_rows, n_cols, i + 1)\n",
    "        ax.imshow(img, cmap='gray', interpolation='none')"
   ]
  },
  {
   "cell_type": "code",
   "execution_count": 3,
   "metadata": {
    "collapsed": false
   },
   "outputs": [
    {
     "data": {
      "image/png": "[encoded data removed]",
      "text/plain": [
       "<matplotlib.figure.Figure at 0x7f00a9744be0>"
      ]
     },
     "metadata": {},
     "output_type": "display_data"
    }
   ],
   "source": [
    "img = (imread('img.png') > 0.5)\n",
    "fancy_show(img)"
   ]
  },
  {
   "cell_type": "code",
   "execution_count": 4,
   "metadata": {
    "collapsed": true
   },
   "outputs": [],
   "source": [
    "r = 3\n",
    "struct_el = array([\n",
    "    [\n",
    "        hypot(row, col) <= r for col in range(-r, r + 1)\n",
    "    ] for row in range(-r, r + 1)\n",
    "])"
   ]
  },
  {
   "cell_type": "code",
   "execution_count": 5,
   "metadata": {
    "collapsed": false
   },
   "outputs": [
    {
     "data": {
      "image/png": "[encoded data removed]",
      "text/plain": [
       "<matplotlib.figure.Figure at 0x7f00a974a588>"
      ]
     },
     "metadata": {},
     "output_type": "display_data"
    }
   ],
   "source": [
    "fancy_show(struct_el, fig_dim=2)"
   ]
  },
  {
   "cell_type": "code",
   "execution_count": 6,
   "metadata": {
    "collapsed": false
   },
   "outputs": [],
   "source": [
    "def build_skeleton(img, struct_el, return_steps=True):\n",
    "    img = img.astype(bool)\n",
    "    struct_el = struct_el.astype(bool)\n",
    "    img = img.copy()\n",
    "    if return_steps:\n",
    "        steps = []\n",
    "    else:\n",
    "        skeleton = zeros_like(img, dtype=bool)\n",
    "    while True:\n",
    "        img_e = binary_erosion(img, structure=struct_el)\n",
    "        if not(img_e.any()):\n",
    "            break\n",
    "        img_ed = binary_dilation(img_e, structure=struct_el)\n",
    "        diff = img * invert(img_ed)\n",
    "        if return_steps:\n",
    "            steps.append(diff)\n",
    "        else:\n",
    "            skeleton += diff\n",
    "        img = img_e\n",
    "    if return_steps:\n",
    "        steps.append(img)\n",
    "        return steps\n",
    "    else:\n",
    "        return skeleton\n",
    "\n",
    "def combine_steps(steps):\n",
    "    return apply_along_axis(any, axis=0, array=array(steps))\n",
    "\n",
    "def reconstruct_steps(steps, struct_el):\n",
    "    result = np.zeros_like(steps[0])\n",
    "    for step in reversed(steps):\n",
    "        result = binary_dilation(result, struct_el) + step\n",
    "    return(result)"
   ]
  },
  {
   "cell_type": "code",
   "execution_count": 7,
   "metadata": {
    "collapsed": false
   },
   "outputs": [
    {
     "data": {
      "text/plain": [
       "<matplotlib.text.Text at 0x7f0080c8fc18>"
      ]
     },
     "execution_count": 7,
     "metadata": {},
     "output_type": "execute_result"
    },
    {
     "data": {
      "image/png": "[encoded data removed]",
      "text/plain": [
       "<matplotlib.figure.Figure at 0x7f00a9690908>"
      ]
     },
     "metadata": {},
     "output_type": "display_data"
    }
   ],
   "source": [
    "skeleton = build_skeleton(img, struct_el, return_steps=False)\n",
    "fancy_show(skeleton)\n",
    "imsave(skeleton.png)"
   ]
  },
  {
   "cell_type": "code",
   "execution_count": 8,
   "metadata": {
    "collapsed": false
   },
   "outputs": [
    {
     "name": "stdout",
     "output_type": "stream",
     "text": [
      "Looks good to me.\n"
     ]
    },
    {
     "data": {
      "image/png": "[encoded data removed]",
      "text/plain": [
       "<matplotlib.figure.Figure at 0x7f0080c84f60>"
      ]
     },
     "metadata": {},
     "output_type": "display_data"
    }
   ],
   "source": [
    "img_sr = reconstruct_steps(build_skeleton(img, struct_el), struct_el)\n",
    "fancy_show(img_sr)\n",
    "if any(img != img_sr):\n",
    "    print('Crap, i messed up somewhere.')\n",
    "else:\n",
    "    print('Looks good to me.')"
   ]
  }
 ],
 "metadata": {
  "kernelspec": {
   "display_name": "Python 3",
   "language": "python",
   "name": "python3"
  },
  "language_info": {
   "codemirror_mode": {
    "name": "ipython",
    "version": 3
   },
   "file_extension": ".py",
   "mimetype": "text/x-python",
   "name": "python",
   "nbconvert_exporter": "python",
   "pygments_lexer": "ipython3",
   "version": "3.5.2"
  }
 },
 "nbformat": 4,
 "nbformat_minor": 1
}
